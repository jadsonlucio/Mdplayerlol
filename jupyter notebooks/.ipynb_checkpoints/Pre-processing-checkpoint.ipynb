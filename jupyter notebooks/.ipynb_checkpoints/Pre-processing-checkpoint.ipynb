{
 "cells": [
  {
   "cell_type": "markdown",
   "metadata": {},
   "source": [
    "# Imports"
   ]
  },
  {
   "cell_type": "code",
   "execution_count": 3,
   "metadata": {},
   "outputs": [],
   "source": [
    "import pandas as pd\n",
    "import numpy as np\n",
    "\n",
    "import constants as const\n",
    "import functions as func\n",
    "\n",
    "import warnings\n",
    "warnings.filterwarnings(\"ignore\")"
   ]
  },
  {
   "cell_type": "markdown",
   "metadata": {},
   "source": [
    "# Processing"
   ]
  },
  {
   "cell_type": "code",
   "execution_count": 4,
   "metadata": {},
   "outputs": [],
   "source": [
    "#carrega o dataset das partidas rankeadas dos jogadores\n",
    "ranked_dataset=pd.read_csv(const.path_dataset)\n",
    "\n",
    "#seleciona as partidas que passaram dos 15 min de duração\n",
    "ranked_dataset=ranked_dataset[(ranked_dataset.gameDuration>1800) & (ranked_dataset.gameDuration<2300)]\n",
    "\n",
    "#filtra somente as partidas rankeadas\n",
    "ranked_dataset=ranked_dataset[ranked_dataset.queueId==420]"
   ]
  },
  {
   "cell_type": "markdown",
   "metadata": {},
   "source": [
    "# Feature extraction"
   ]
  },
  {
   "cell_type": "code",
   "execution_count": 5,
   "metadata": {},
   "outputs": [],
   "source": [
    "#cria uma coluna que represent a posição de cada jogador de acordo com a lane e role\n",
    "ranked_dataset[\"position\"]=ranked_dataset.apply(func.get_position,axis=1)\n",
    "\n",
    "#remove as linhas de jogadores cuja posição no foi definida\n",
    "ranked_dataset=ranked_dataset[(ranked_dataset[\"position\"]=='adc') | (ranked_dataset[\"position\"]=='sup') | \n",
    "                             (ranked_dataset[\"position\"]=='mid') | (ranked_dataset[\"position\"]=='jg') |\n",
    "                             (ranked_dataset[\"position\"]=='top')]\n",
    "\n",
    "\n",
    "#agrupa as partidas\n",
    "matchs=ranked_dataset.groupby(\"gameCreation\")\n",
    "\n",
    "#seleciona as partidas cuja a quantidade de jogadores é 10 e as organiza de acordo com a posição\n",
    "matchs=[match[1].sort_values(\"position\") for match in list(matchs) if(len(match[1].values)==10)]\n",
    "\n",
    "#adiciona atributos relativos a certos atributos numericos ao dataset\n",
    "matchs=[func.add_atributos_relativos(match,const.atributos_numericos) for match in matchs]\n",
    "\n",
    "#juntas os datasets de todas as partidas em um dataset principal\n",
    "ranked_dataset=pd.concat(matchs)\n",
    "\n",
    "#adiciona atributos normalizados aos atributos numericos do dataframe\n",
    "ranked_dataset=func.add_atributos_normalizados(ranked_dataset,const.atributos_numericos)\n",
    "\n",
    "#salva o dataset\n",
    "ranked_dataset.to_csv(const.path_treated_dataset)"
   ]
  },
  {
   "cell_type": "markdown",
   "metadata": {},
   "source": [
    "# Create custom dataframes"
   ]
  },
  {
   "cell_type": "code",
   "execution_count": 32,
   "metadata": {},
   "outputs": [],
   "source": [
    "lanes_dataset=[ranked_dataset[ranked_dataset.position==rota_name] for rota_name in const.rotas_names]\n",
    "[lane_dataset.to_csv(\"{0}/{1}/complete_dataset.csv\".format(const.path_routes_datasets,lane_name,lane_name)) \n",
    "              for lane_name,lane_dataset in zip(const.rotas_names,lanes_dataset)]\n",
    "\n",
    "\n",
    "for lane_dataset,lane_name in zip(lanes_dataset,const.rotas_names):\n",
    "    for group_name,dataset in lane_dataset.groupby(\"champion_class\"):\n",
    "        dataset.to_csv(\"{0}/{1}/{2}_group.csv\".format(const.path_routes_datasets,lane_name,group_name))\n",
    "        "
   ]
  },
  {
   "cell_type": "code",
   "execution_count": null,
   "metadata": {},
   "outputs": [],
   "source": []
  }
 ],
 "metadata": {
  "kernelspec": {
   "display_name": "Python 3",
   "language": "python",
   "name": "python3"
  },
  "language_info": {
   "codemirror_mode": {
    "name": "ipython",
    "version": 3
   },
   "file_extension": ".py",
   "mimetype": "text/x-python",
   "name": "python",
   "nbconvert_exporter": "python",
   "pygments_lexer": "ipython3",
   "version": "3.5.0"
  }
 },
 "nbformat": 4,
 "nbformat_minor": 2
}
