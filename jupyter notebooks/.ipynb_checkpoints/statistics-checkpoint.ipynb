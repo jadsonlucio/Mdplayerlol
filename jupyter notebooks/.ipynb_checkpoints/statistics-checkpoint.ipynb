{
 "cells": [
  {
   "cell_type": "markdown",
   "metadata": {},
   "source": [
    "# Imports"
   ]
  },
  {
   "cell_type": "code",
   "execution_count": 24,
   "metadata": {},
   "outputs": [],
   "source": [
    "import pandas as pd\n",
    "import numpy as np\n",
    "\n",
    "import constants as const\n",
    "\n",
    "import warnings\n",
    "warnings.filterwarnings(\"ignore\")"
   ]
  },
  {
   "cell_type": "markdown",
   "metadata": {},
   "source": [
    "# Load datasets"
   ]
  },
  {
   "cell_type": "code",
   "execution_count": 25,
   "metadata": {},
   "outputs": [],
   "source": [
    "rotas_dataframe_array=[pd.read_csv(const.path_routes_datasets+rota_name+\"_dataset.csv\") \n",
    "                       for rota_name in const.rotas_names]\n"
   ]
  },
  {
   "cell_type": "markdown",
   "metadata": {},
   "source": [
    "# Create statistics dataframes"
   ]
  },
  {
   "cell_type": "code",
   "execution_count": 26,
   "metadata": {},
   "outputs": [
    {
     "data": {
      "text/html": [
       "<div>\n",
       "<style scoped>\n",
       "    .dataframe tbody tr th:only-of-type {\n",
       "        vertical-align: middle;\n",
       "    }\n",
       "\n",
       "    .dataframe tbody tr th {\n",
       "        vertical-align: top;\n",
       "    }\n",
       "\n",
       "    .dataframe thead th {\n",
       "        text-align: right;\n",
       "    }\n",
       "</style>\n",
       "<table border=\"1\" class=\"dataframe\">\n",
       "  <thead>\n",
       "    <tr style=\"text-align: right;\">\n",
       "      <th></th>\n",
       "      <th>lane</th>\n",
       "      <th>partidas</th>\n",
       "      <th>vitorias</th>\n",
       "      <th>derrotas</th>\n",
       "    </tr>\n",
       "  </thead>\n",
       "  <tbody>\n",
       "    <tr>\n",
       "      <th>0</th>\n",
       "      <td>adc</td>\n",
       "      <td>1057</td>\n",
       "      <td>539</td>\n",
       "      <td>518</td>\n",
       "    </tr>\n",
       "    <tr>\n",
       "      <th>1</th>\n",
       "      <td>sup</td>\n",
       "      <td>1132</td>\n",
       "      <td>576</td>\n",
       "      <td>556</td>\n",
       "    </tr>\n",
       "    <tr>\n",
       "      <th>2</th>\n",
       "      <td>mid</td>\n",
       "      <td>1077</td>\n",
       "      <td>538</td>\n",
       "      <td>539</td>\n",
       "    </tr>\n",
       "    <tr>\n",
       "      <th>3</th>\n",
       "      <td>jg</td>\n",
       "      <td>1216</td>\n",
       "      <td>609</td>\n",
       "      <td>607</td>\n",
       "    </tr>\n",
       "    <tr>\n",
       "      <th>4</th>\n",
       "      <td>top</td>\n",
       "      <td>1050</td>\n",
       "      <td>515</td>\n",
       "      <td>535</td>\n",
       "    </tr>\n",
       "  </tbody>\n",
       "</table>\n",
       "</div>"
      ],
      "text/plain": [
       "  lane  partidas  vitorias  derrotas\n",
       "0  adc      1057       539       518\n",
       "1  sup      1132       576       556\n",
       "2  mid      1077       538       539\n",
       "3   jg      1216       609       607\n",
       "4  top      1050       515       535"
      ]
     },
     "execution_count": 26,
     "metadata": {},
     "output_type": "execute_result"
    }
   ],
   "source": [
    "#create lanes dataframes basic info\n",
    "\n",
    "data=[]\n",
    "\n",
    "for lane_name,lane_dataframe in zip(const.rotas_names,rotas_dataframe_array):\n",
    "    dataframe=pd.read_csv(const.path_routes_datasets+lane_name+\"_dataset.csv\")\n",
    "    data.append([lane_name,len(dataframe.values),(dataframe.win==True).sum(),\n",
    "                                                          (dataframe.win==False).sum()])\n",
    "    \n",
    "dataframe_estatisticas_rotas=pd.DataFrame(data=data,columns=[\"lane\",\"partidas\",\"vitorias\",\"derrotas\"])\n",
    "dataframe_estatisticas_rotas.to_csv(const.path_info_routes)\n",
    "dataframe_estatisticas_rotas"
   ]
  },
  {
   "cell_type": "code",
   "execution_count": 27,
   "metadata": {},
   "outputs": [],
   "source": [
    "#create a dataframe with statistics of atributes for every position\n",
    "\n",
    "array_estastisticas=[]\n",
    "\n",
    "\n",
    "for atributo in const.atributos_numericos:\n",
    "    for dataframe,rota_name in zip(rotas_dataframe_array,const.rotas_names):\n",
    "        data=dataframe[atributo]\n",
    "        media=round(np.mean(data),3)\n",
    "        variancia=round(float(np.std(data)),3)\n",
    "        maximo=max(data)\n",
    "        minimo=min(data)\n",
    "        array_estastisticas.append([rota_name,atributo,media,variancia,maximo,minimo])\n",
    "\n",
    "dataframe_estatisticas_atributos=pd.DataFrame(data=array_estastisticas,columns=[\"rota\",\"atributo\",\"media\",\n",
    "                                                                                \"desvio padrao\",\"maximo\",\"minimo\"])\n"
   ]
  },
  {
   "cell_type": "code",
   "execution_count": 28,
   "metadata": {},
   "outputs": [],
   "source": [
    "#Create a dataframe with correlations beteewen atributes of every position\n",
    "\n",
    "array_correlacoes=[]\n",
    "for dataframe,rota_name in zip(rotas_dataframe_array,const.rotas_names):\n",
    "    for cont in range(len(const.atributos_numericos)):\n",
    "        for cont2 in range(cont,len(const.atributos_numericos)):\n",
    "            if(cont!=cont2):\n",
    "                atributo_1=const.atributos_numericos[cont]\n",
    "                atributo_2=const.atributos_numericos[cont2]\n",
    "                correlacao=np.corrcoef(dataframe[atributo_1],dataframe[atributo_2])[0][1]\n",
    "                array_correlacoes.append([rota_name,atributo_1,atributo_2,correlacao,abs(correlacao)])\n",
    "                \n",
    "\n",
    "dataframe_correlacoes=pd.DataFrame(data=array_correlacoes,columns=[\"rota\",\"atributo 1\",\"atributo 2\",\"correlação\",\"correlação absoluta\"])\n",
    "dataframe_correlacoes=dataframe_correlacoes.sort_values(\"correlação absoluta\",ascending=False)\n",
    "dataframe_correlacoes.to_csv(const.path_correlacoes_atributos)"
   ]
  },
  {
   "cell_type": "code",
   "execution_count": 31,
   "metadata": {},
   "outputs": [],
   "source": [
    "#Cria um array de dataframes de cada rota com o desvio padrão de cada atributo\n",
    "    \n",
    "array_dataframes_std=[]\n",
    "for dataframe,role_name in zip(rotas_dataframe_array,const.rotas_names):\n",
    "    array_desvio_atributos=[]\n",
    "    for atributo in const.atributos_numericos:\n",
    "        data=dataframe[\"norm_\"+atributo]\n",
    "        array_desvio_atributos.append([role_name,atributo,np.std(data)])\n",
    "\n",
    "    dataframe_std=pd.DataFrame(data=array_desvio_atributos,columns=[\"rota\",\"atributo relativo\",\"desvio padrao\"])\n",
    "    array_dataframes_std.append(dataframe_std)\n",
    "\n",
    "array_routes_atributes_std=[dataframe.sort_values(\"desvio padrao\") for dataframe in array_dataframes_std]"
   ]
  },
  {
   "cell_type": "code",
   "execution_count": null,
   "metadata": {},
   "outputs": [],
   "source": []
  }
 ],
 "metadata": {
  "kernelspec": {
   "display_name": "Python 3",
   "language": "python",
   "name": "python3"
  },
  "language_info": {
   "codemirror_mode": {
    "name": "ipython",
    "version": 3
   },
   "file_extension": ".py",
   "mimetype": "text/x-python",
   "name": "python",
   "nbconvert_exporter": "python",
   "pygments_lexer": "ipython3",
   "version": "3.6.5"
  }
 },
 "nbformat": 4,
 "nbformat_minor": 2
}
