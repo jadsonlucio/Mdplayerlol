{
 "cells": [
  {
   "cell_type": "markdown",
   "metadata": {},
   "source": [
    "# Imports"
   ]
  },
  {
   "cell_type": "code",
   "execution_count": 1,
   "metadata": {},
   "outputs": [],
   "source": [
    "import pandas as pd\n",
    "import numpy as np\n",
    "\n",
    "import constants as const\n",
    "\n",
    "import warnings\n",
    "warnings.filterwarnings(\"ignore\")"
   ]
  },
  {
   "cell_type": "markdown",
   "metadata": {},
   "source": [
    "# Load datasets"
   ]
  },
  {
   "cell_type": "code",
   "execution_count": 2,
   "metadata": {},
   "outputs": [],
   "source": [
    "rotas_dataframe_array=[pd.read_csv(const.path_routes_datasets+rota_name+\"/\"+\"complete_dataset.csv\") \n",
    "                       for rota_name in const.rotas_names]\n"
   ]
  },
  {
   "cell_type": "markdown",
   "metadata": {},
   "source": [
    "# Create statistics dataframes"
   ]
  },
  {
   "cell_type": "code",
   "execution_count": 3,
   "metadata": {},
   "outputs": [
    {
     "data": {
      "text/html": [
       "<div>\n",
       "<style scoped>\n",
       "    .dataframe tbody tr th:only-of-type {\n",
       "        vertical-align: middle;\n",
       "    }\n",
       "\n",
       "    .dataframe tbody tr th {\n",
       "        vertical-align: top;\n",
       "    }\n",
       "\n",
       "    .dataframe thead th {\n",
       "        text-align: right;\n",
       "    }\n",
       "</style>\n",
       "<table border=\"1\" class=\"dataframe\">\n",
       "  <thead>\n",
       "    <tr style=\"text-align: right;\">\n",
       "      <th></th>\n",
       "      <th>lane</th>\n",
       "      <th>partidas</th>\n",
       "      <th>vitorias</th>\n",
       "      <th>derrotas</th>\n",
       "    </tr>\n",
       "  </thead>\n",
       "  <tbody>\n",
       "    <tr>\n",
       "      <th>0</th>\n",
       "      <td>adc</td>\n",
       "      <td>1074</td>\n",
       "      <td>542</td>\n",
       "      <td>532</td>\n",
       "    </tr>\n",
       "    <tr>\n",
       "      <th>1</th>\n",
       "      <td>sup</td>\n",
       "      <td>1128</td>\n",
       "      <td>571</td>\n",
       "      <td>557</td>\n",
       "    </tr>\n",
       "    <tr>\n",
       "      <th>2</th>\n",
       "      <td>mid</td>\n",
       "      <td>1055</td>\n",
       "      <td>527</td>\n",
       "      <td>528</td>\n",
       "    </tr>\n",
       "    <tr>\n",
       "      <th>3</th>\n",
       "      <td>jg</td>\n",
       "      <td>1160</td>\n",
       "      <td>581</td>\n",
       "      <td>579</td>\n",
       "    </tr>\n",
       "    <tr>\n",
       "      <th>4</th>\n",
       "      <td>top</td>\n",
       "      <td>1043</td>\n",
       "      <td>509</td>\n",
       "      <td>534</td>\n",
       "    </tr>\n",
       "  </tbody>\n",
       "</table>\n",
       "</div>"
      ],
      "text/plain": [
       "  lane  partidas  vitorias  derrotas\n",
       "0  adc      1074       542       532\n",
       "1  sup      1128       571       557\n",
       "2  mid      1055       527       528\n",
       "3   jg      1160       581       579\n",
       "4  top      1043       509       534"
      ]
     },
     "execution_count": 3,
     "metadata": {},
     "output_type": "execute_result"
    }
   ],
   "source": [
    "#create lanes dataframes basic info\n",
    "\n",
    "data=[]\n",
    "\n",
    "for lane_name,lane_dataframe in zip(const.rotas_names,rotas_dataframe_array):\n",
    "    data.append([lane_name,len(lane_dataframe.values),(lane_dataframe.win==True).sum(),\n",
    "                                                          (lane_dataframe.win==False).sum()])\n",
    "    \n",
    "dataframe_estatisticas_rotas=pd.DataFrame(data=data,columns=[\"lane\",\"partidas\",\"vitorias\",\"derrotas\"])\n",
    "dataframe_estatisticas_rotas.to_csv(const.path_info_routes)\n",
    "dataframe_estatisticas_rotas"
   ]
  },
  {
   "cell_type": "code",
   "execution_count": 27,
   "metadata": {},
   "outputs": [],
   "source": [
    "#create a dataframe with statistics of atributes for every position\n",
    "\n",
    "array_estastisticas=[]\n",
    "\n",
    "\n",
    "for atributo in const.atributos_numericos:\n",
    "    for dataframe,rota_name in zip(rotas_dataframe_array,const.rotas_names):\n",
    "        data=dataframe[atributo]\n",
    "        media=round(np.mean(data),3)\n",
    "        variancia=round(float(np.std(data)),3)\n",
    "        maximo=max(data)\n",
    "        minimo=min(data)\n",
    "        array_estastisticas.append([rota_name,atributo,media,variancia,maximo,minimo])\n",
    "\n",
    "dataframe_estatisticas_atributos=pd.DataFrame(data=array_estastisticas,columns=[\"rota\",\"atributo\",\"media\",\n",
    "                                                                                \"desvio padrao\",\"maximo\",\"minimo\"])\n"
   ]
  },
  {
   "cell_type": "code",
   "execution_count": 28,
   "metadata": {},
   "outputs": [],
   "source": [
    "#Create a dataframe with correlations beteewen atributes of every position\n",
    "\n",
    "array_correlacoes=[]\n",
    "for dataframe,rota_name in zip(rotas_dataframe_array,const.rotas_names):\n",
    "    for cont in range(len(const.atributos_numericos)):\n",
    "        for cont2 in range(cont,len(const.atributos_numericos)):\n",
    "            if(cont!=cont2):\n",
    "                atributo_1=const.atributos_numericos[cont]\n",
    "                atributo_2=const.atributos_numericos[cont2]\n",
    "                correlacao=np.corrcoef(dataframe[atributo_1],dataframe[atributo_2])[0][1]\n",
    "                array_correlacoes.append([rota_name,atributo_1,atributo_2,correlacao,abs(correlacao)])\n",
    "                \n",
    "\n",
    "dataframe_correlacoes=pd.DataFrame(data=array_correlacoes,columns=[\"rota\",\"atributo 1\",\"atributo 2\",\"correlação\",\"correlação absoluta\"])\n",
    "dataframe_correlacoes=dataframe_correlacoes.sort_values(\"correlação absoluta\",ascending=False)\n",
    "dataframe_correlacoes.to_csv(const.path_correlacoes_atributos)"
   ]
  },
  {
   "cell_type": "code",
   "execution_count": 31,
   "metadata": {},
   "outputs": [],
   "source": [
    "#Cria um array de dataframes de cada rota com o desvio padrão de cada atributo\n",
    "    \n",
    "array_dataframes_std=[]\n",
    "for dataframe,role_name in zip(rotas_dataframe_array,const.rotas_names):\n",
    "    array_desvio_atributos=[]\n",
    "    for atributo in const.atributos_numericos:\n",
    "        data=dataframe[\"norm_\"+atributo]\n",
    "        array_desvio_atributos.append([role_name,atributo,np.std(data)])\n",
    "\n",
    "    dataframe_std=pd.DataFrame(data=array_desvio_atributos,columns=[\"rota\",\"atributo relativo\",\"desvio padrao\"])\n",
    "    array_dataframes_std.append(dataframe_std)\n",
    "\n",
    "array_routes_atributes_std=[dataframe.sort_values(\"desvio padrao\") for dataframe in array_dataframes_std]"
   ]
  },
  {
   "cell_type": "code",
   "execution_count": null,
   "metadata": {},
   "outputs": [],
   "source": []
  }
 ],
 "metadata": {
  "kernelspec": {
   "display_name": "Python 3",
   "language": "python",
   "name": "python3"
  },
  "language_info": {
   "codemirror_mode": {
    "name": "ipython",
    "version": 3
   },
   "file_extension": ".py",
   "mimetype": "text/x-python",
   "name": "python",
   "nbconvert_exporter": "python",
   "pygments_lexer": "ipython3",
   "version": "3.5.0"
  }
 },
 "nbformat": 4,
 "nbformat_minor": 2
}
